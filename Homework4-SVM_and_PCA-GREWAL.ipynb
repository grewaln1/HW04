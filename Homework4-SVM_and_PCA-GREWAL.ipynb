{
 "cells": [
  {
   "cell_type": "markdown",
   "metadata": {},
   "source": [
    "# CMSE 202 Homework 4 (Individual)\n",
    "\n",
    "## Using SVM and PCA to predict the outcome of chess games\n",
    "\n",
    "### Goals for this homework assignment\n",
    "\n",
    "By the end of this assignment, you should be able to:\n",
    "\n",
    "* Use `git` to track your work and turn in your assignment\n",
    "* Read and impute data to prepare it for modeling\n",
    "* Build, fit, and evaluate an SVC model of data\n",
    "* Use PCA to reduce the number of important features\n",
    "* Build, fit, and evaluate an SVC model of pca transformed data\n",
    "* Systematically investigate the effects of the number of components on an SVC model of data\n",
    "\n",
    "\n",
    "### Assignment instructions:\n",
    "\n",
    "Work through the following assignment, making sure to follow all of the directions and answer all of the questions.\n",
    "\n",
    "There are 25 points possible on this assignment. Point values for each part are included in the section headers.\n",
    "\n",
    "This assignment is due at 11:59 pm on Friday, November 13th. It should be pushed to your repo (See Part 1). "
   ]
  },
  {
   "cell_type": "code",
   "execution_count": 1,
   "metadata": {},
   "outputs": [],
   "source": [
    "## Our imports\n",
    "import numpy as np\n",
    "import pandas as pd\n",
    "import matplotlib.pylab as plt\n",
    "from sklearn.model_selection import train_test_split\n",
    "from sklearn.model_selection import GridSearchCV\n",
    "from sklearn.metrics import classification_report\n",
    "from sklearn.metrics import confusion_matrix, accuracy_score\n",
    "from sklearn.svm import SVC\n",
    "from sklearn.decomposition import PCA"
   ]
  },
  {
   "cell_type": "markdown",
   "metadata": {},
   "source": [
    "---\n",
    "## 1. Adding notebook to your turn-in repository\n",
    "\n",
    "Like you did for Homework 3, you're going to add it to the CMSE202 repository you created in class so that you can track your progress on the assignment and preserve the final version that you turn in. In order to do this you need to:\n",
    "\n",
    "* Navigate to your /CMSE202/repos repository and create a new directory called hw-04.\n",
    "* Move this notebook into that new directory in your repository, then add it and commit it to your repository.\n",
    "   * Finally, to test that everything is working, \"git push\" the file so that it ends up in your GitHub repository.\n",
    "\n",
    "Important: Make sure you've added your TA as a collaborators to your respository with \"Read\" access so that we can see your assignment. (*If you did this for Homework 3, you do not need to do it again*)\n",
    "\n",
    "* Section 001: tuethan\n",
    "* Section 002: Luis-Polanco\n",
    "* Section 003: DavidRimel\n",
    "\n",
    "Also important: Make sure that the version of this notebook that you are working on is the same one that you just added to your repository! If you are working on a different copy of the notebook, none of your changes will be tracked.\n",
    "\n",
    "If everything went as intended, the file should now show up on your GitHub account CMSE202 repository under the hw-04 directory that you just created. Periodically, you'll be asked to commit your changes to the repository and push them to the remote GitHub location. Of course, you can always commit your changes more often than that, if you wish. It can be good to get into a habit of committing your changes any time you make a significant modification, or when you stop working on the project for a bit."
   ]
  },
  {
   "cell_type": "markdown",
   "metadata": {},
   "source": [
    "---\n",
    "## 2. Chess Game Data\n",
    "\n",
    "The data you will work are configurations of a chess end game. It assumes that a pawn is one move away from [\"queening\"](https://en.wikipedia.org/wiki/Promotion_(chess)) and \n",
    "the other pieces can be moved to perform different offensive or defensive actions. For each of the 36 potential features, there are several potential values for each (entries in a given column). **The details of the data matter a bit less for our purposes, but we are attempting to predict the won/loss by a given side.** If you really want to know about the data, you can look into a [classic text on Artificial Intelligence by Shapiro](https://www.amazon.com/Encyclopedia-Artificial-Intelligence-Stuart-Shapiro/dp/0471807486).\n",
    "\n",
    "You will first do this with a full model, then investigate how well the model works after a PCA has been done on the data.\n",
    "\n",
    "### 2.1 Read in the data\n",
    "\n",
    "First you need to read in the data from `kr-vs-kp.data`. You can look at `kr-vs-kp.names` to see how the data is structured. But we give you the code for the column naming as there are so many features and they are unlabeled in the `.data` file.\n",
    "\n",
    "```cols = [\"bkblk\",\"bknwy\",\"bkon8\",\"bkona\",\"bkspr\",\"bkxbq\",\"bkxcr\",\"bkxwp\",\"blxwp\",\"bxqsq\",\"cntxt\",\"dsopp\",\"dwipd\",\n",
    " \"hdchk\",\"katri\",\"mulch\",\"qxmsq\",\"r2ar8\",\"reskd\",\"reskr\",\"rimmx\",\"rkxwp\",\"rxmsq\",\"simpl\",\"skach\",\"skewr\",\n",
    " \"skrxp\",\"spcop\",\"stlmt\",\"thrsk\",\"wkcti\",\"wkna8\",\"wknck\",\"wkovl\",\"wkpos\",\"wtoeg\",\"won\"]```\n",
    " \n",
    "<font size=8 color=\"#009600\">&#9998;</font> Do this - Read in the data from `kr-vs-kp.data` using the columns listed above. Print the `.head()` of the dataframe."
   ]
  },
  {
   "cell_type": "code",
   "execution_count": 2,
   "metadata": {},
   "outputs": [
    {
     "data": {
      "text/html": [
       "<div>\n",
       "<style scoped>\n",
       "    .dataframe tbody tr th:only-of-type {\n",
       "        vertical-align: middle;\n",
       "    }\n",
       "\n",
       "    .dataframe tbody tr th {\n",
       "        vertical-align: top;\n",
       "    }\n",
       "\n",
       "    .dataframe thead th {\n",
       "        text-align: right;\n",
       "    }\n",
       "</style>\n",
       "<table border=\"1\" class=\"dataframe\">\n",
       "  <thead>\n",
       "    <tr style=\"text-align: right;\">\n",
       "      <th></th>\n",
       "      <th>bkblk</th>\n",
       "      <th>bknwy</th>\n",
       "      <th>bkon8</th>\n",
       "      <th>bkona</th>\n",
       "      <th>bkspr</th>\n",
       "      <th>bkxbq</th>\n",
       "      <th>bkxcr</th>\n",
       "      <th>bkxwp</th>\n",
       "      <th>blxwp</th>\n",
       "      <th>bxqsq</th>\n",
       "      <th>...</th>\n",
       "      <th>spcop</th>\n",
       "      <th>stlmt</th>\n",
       "      <th>thrsk</th>\n",
       "      <th>wkcti</th>\n",
       "      <th>wkna8</th>\n",
       "      <th>wknck</th>\n",
       "      <th>wkovl</th>\n",
       "      <th>wkpos</th>\n",
       "      <th>wtoeg</th>\n",
       "      <th>won</th>\n",
       "    </tr>\n",
       "  </thead>\n",
       "  <tbody>\n",
       "    <tr>\n",
       "      <td>0</td>\n",
       "      <td>f</td>\n",
       "      <td>f</td>\n",
       "      <td>f</td>\n",
       "      <td>f</td>\n",
       "      <td>f</td>\n",
       "      <td>f</td>\n",
       "      <td>f</td>\n",
       "      <td>f</td>\n",
       "      <td>f</td>\n",
       "      <td>f</td>\n",
       "      <td>...</td>\n",
       "      <td>f</td>\n",
       "      <td>f</td>\n",
       "      <td>f</td>\n",
       "      <td>f</td>\n",
       "      <td>f</td>\n",
       "      <td>f</td>\n",
       "      <td>t</td>\n",
       "      <td>t</td>\n",
       "      <td>n</td>\n",
       "      <td>won</td>\n",
       "    </tr>\n",
       "    <tr>\n",
       "      <td>1</td>\n",
       "      <td>f</td>\n",
       "      <td>f</td>\n",
       "      <td>f</td>\n",
       "      <td>f</td>\n",
       "      <td>t</td>\n",
       "      <td>f</td>\n",
       "      <td>f</td>\n",
       "      <td>f</td>\n",
       "      <td>f</td>\n",
       "      <td>f</td>\n",
       "      <td>...</td>\n",
       "      <td>f</td>\n",
       "      <td>f</td>\n",
       "      <td>f</td>\n",
       "      <td>f</td>\n",
       "      <td>f</td>\n",
       "      <td>f</td>\n",
       "      <td>t</td>\n",
       "      <td>t</td>\n",
       "      <td>n</td>\n",
       "      <td>won</td>\n",
       "    </tr>\n",
       "    <tr>\n",
       "      <td>2</td>\n",
       "      <td>f</td>\n",
       "      <td>f</td>\n",
       "      <td>f</td>\n",
       "      <td>f</td>\n",
       "      <td>t</td>\n",
       "      <td>f</td>\n",
       "      <td>t</td>\n",
       "      <td>f</td>\n",
       "      <td>f</td>\n",
       "      <td>f</td>\n",
       "      <td>...</td>\n",
       "      <td>f</td>\n",
       "      <td>f</td>\n",
       "      <td>f</td>\n",
       "      <td>f</td>\n",
       "      <td>f</td>\n",
       "      <td>f</td>\n",
       "      <td>t</td>\n",
       "      <td>t</td>\n",
       "      <td>n</td>\n",
       "      <td>won</td>\n",
       "    </tr>\n",
       "    <tr>\n",
       "      <td>3</td>\n",
       "      <td>f</td>\n",
       "      <td>f</td>\n",
       "      <td>f</td>\n",
       "      <td>f</td>\n",
       "      <td>f</td>\n",
       "      <td>f</td>\n",
       "      <td>f</td>\n",
       "      <td>f</td>\n",
       "      <td>t</td>\n",
       "      <td>f</td>\n",
       "      <td>...</td>\n",
       "      <td>f</td>\n",
       "      <td>f</td>\n",
       "      <td>f</td>\n",
       "      <td>f</td>\n",
       "      <td>f</td>\n",
       "      <td>f</td>\n",
       "      <td>t</td>\n",
       "      <td>t</td>\n",
       "      <td>n</td>\n",
       "      <td>won</td>\n",
       "    </tr>\n",
       "    <tr>\n",
       "      <td>4</td>\n",
       "      <td>f</td>\n",
       "      <td>f</td>\n",
       "      <td>f</td>\n",
       "      <td>f</td>\n",
       "      <td>f</td>\n",
       "      <td>f</td>\n",
       "      <td>f</td>\n",
       "      <td>f</td>\n",
       "      <td>f</td>\n",
       "      <td>f</td>\n",
       "      <td>...</td>\n",
       "      <td>f</td>\n",
       "      <td>f</td>\n",
       "      <td>f</td>\n",
       "      <td>f</td>\n",
       "      <td>f</td>\n",
       "      <td>f</td>\n",
       "      <td>t</td>\n",
       "      <td>t</td>\n",
       "      <td>n</td>\n",
       "      <td>won</td>\n",
       "    </tr>\n",
       "    <tr>\n",
       "      <td>5</td>\n",
       "      <td>f</td>\n",
       "      <td>f</td>\n",
       "      <td>f</td>\n",
       "      <td>f</td>\n",
       "      <td>f</td>\n",
       "      <td>f</td>\n",
       "      <td>f</td>\n",
       "      <td>f</td>\n",
       "      <td>f</td>\n",
       "      <td>f</td>\n",
       "      <td>...</td>\n",
       "      <td>f</td>\n",
       "      <td>f</td>\n",
       "      <td>t</td>\n",
       "      <td>f</td>\n",
       "      <td>f</td>\n",
       "      <td>f</td>\n",
       "      <td>t</td>\n",
       "      <td>t</td>\n",
       "      <td>n</td>\n",
       "      <td>won</td>\n",
       "    </tr>\n",
       "    <tr>\n",
       "      <td>6</td>\n",
       "      <td>f</td>\n",
       "      <td>f</td>\n",
       "      <td>f</td>\n",
       "      <td>f</td>\n",
       "      <td>f</td>\n",
       "      <td>f</td>\n",
       "      <td>f</td>\n",
       "      <td>f</td>\n",
       "      <td>t</td>\n",
       "      <td>f</td>\n",
       "      <td>...</td>\n",
       "      <td>f</td>\n",
       "      <td>f</td>\n",
       "      <td>f</td>\n",
       "      <td>f</td>\n",
       "      <td>f</td>\n",
       "      <td>f</td>\n",
       "      <td>t</td>\n",
       "      <td>t</td>\n",
       "      <td>n</td>\n",
       "      <td>won</td>\n",
       "    </tr>\n",
       "    <tr>\n",
       "      <td>7</td>\n",
       "      <td>f</td>\n",
       "      <td>f</td>\n",
       "      <td>f</td>\n",
       "      <td>f</td>\n",
       "      <td>t</td>\n",
       "      <td>f</td>\n",
       "      <td>f</td>\n",
       "      <td>f</td>\n",
       "      <td>f</td>\n",
       "      <td>f</td>\n",
       "      <td>...</td>\n",
       "      <td>f</td>\n",
       "      <td>f</td>\n",
       "      <td>f</td>\n",
       "      <td>f</td>\n",
       "      <td>f</td>\n",
       "      <td>f</td>\n",
       "      <td>t</td>\n",
       "      <td>t</td>\n",
       "      <td>n</td>\n",
       "      <td>won</td>\n",
       "    </tr>\n",
       "    <tr>\n",
       "      <td>8</td>\n",
       "      <td>f</td>\n",
       "      <td>f</td>\n",
       "      <td>f</td>\n",
       "      <td>f</td>\n",
       "      <td>f</td>\n",
       "      <td>f</td>\n",
       "      <td>f</td>\n",
       "      <td>f</td>\n",
       "      <td>f</td>\n",
       "      <td>f</td>\n",
       "      <td>...</td>\n",
       "      <td>f</td>\n",
       "      <td>f</td>\n",
       "      <td>f</td>\n",
       "      <td>t</td>\n",
       "      <td>f</td>\n",
       "      <td>f</td>\n",
       "      <td>t</td>\n",
       "      <td>t</td>\n",
       "      <td>n</td>\n",
       "      <td>won</td>\n",
       "    </tr>\n",
       "    <tr>\n",
       "      <td>9</td>\n",
       "      <td>f</td>\n",
       "      <td>f</td>\n",
       "      <td>f</td>\n",
       "      <td>f</td>\n",
       "      <td>f</td>\n",
       "      <td>f</td>\n",
       "      <td>t</td>\n",
       "      <td>f</td>\n",
       "      <td>f</td>\n",
       "      <td>f</td>\n",
       "      <td>...</td>\n",
       "      <td>f</td>\n",
       "      <td>f</td>\n",
       "      <td>f</td>\n",
       "      <td>f</td>\n",
       "      <td>f</td>\n",
       "      <td>f</td>\n",
       "      <td>t</td>\n",
       "      <td>t</td>\n",
       "      <td>n</td>\n",
       "      <td>won</td>\n",
       "    </tr>\n",
       "  </tbody>\n",
       "</table>\n",
       "<p>10 rows × 37 columns</p>\n",
       "</div>"
      ],
      "text/plain": [
       "  bkblk bknwy bkon8 bkona bkspr bkxbq bkxcr bkxwp blxwp bxqsq  ... spcop  \\\n",
       "0     f     f     f     f     f     f     f     f     f     f  ...     f   \n",
       "1     f     f     f     f     t     f     f     f     f     f  ...     f   \n",
       "2     f     f     f     f     t     f     t     f     f     f  ...     f   \n",
       "3     f     f     f     f     f     f     f     f     t     f  ...     f   \n",
       "4     f     f     f     f     f     f     f     f     f     f  ...     f   \n",
       "5     f     f     f     f     f     f     f     f     f     f  ...     f   \n",
       "6     f     f     f     f     f     f     f     f     t     f  ...     f   \n",
       "7     f     f     f     f     t     f     f     f     f     f  ...     f   \n",
       "8     f     f     f     f     f     f     f     f     f     f  ...     f   \n",
       "9     f     f     f     f     f     f     t     f     f     f  ...     f   \n",
       "\n",
       "  stlmt thrsk wkcti wkna8 wknck wkovl wkpos wtoeg  won  \n",
       "0     f     f     f     f     f     t     t     n  won  \n",
       "1     f     f     f     f     f     t     t     n  won  \n",
       "2     f     f     f     f     f     t     t     n  won  \n",
       "3     f     f     f     f     f     t     t     n  won  \n",
       "4     f     f     f     f     f     t     t     n  won  \n",
       "5     f     t     f     f     f     t     t     n  won  \n",
       "6     f     f     f     f     f     t     t     n  won  \n",
       "7     f     f     f     f     f     t     t     n  won  \n",
       "8     f     f     t     f     f     t     t     n  won  \n",
       "9     f     f     f     f     f     t     t     n  won  \n",
       "\n",
       "[10 rows x 37 columns]"
      ]
     },
     "execution_count": 2,
     "metadata": {},
     "output_type": "execute_result"
    }
   ],
   "source": [
    "## your code here\n",
    "cols = [\"bkblk\",\"bknwy\",\"bkon8\",\"bkona\",\"bkspr\",\"bkxbq\",\"bkxcr\",\"bkxwp\",\"blxwp\",\"bxqsq\",\"cntxt\",\"dsopp\",\"dwipd\",\n",
    " \"hdchk\",\"katri\",\"mulch\",\"qxmsq\",\"r2ar8\",\"reskd\",\"reskr\",\"rimmx\",\"rkxwp\",\"rxmsq\",\"simpl\",\"skach\",\"skewr\",\n",
    " \"skrxp\",\"spcop\",\"stlmt\",\"thrsk\",\"wkcti\",\"wkna8\",\"wknck\",\"wkovl\",\"wkpos\",\"wtoeg\",\"won\"]\n",
    "data = pd.read_csv(\"kr-vs-kp.data\", names = cols)\n",
    "data.head(n=10)\n",
    "# type(data)\n",
    "# len(data)"
   ]
  },
  {
   "cell_type": "markdown",
   "metadata": {},
   "source": [
    "### 2.2 Imputing the data\n",
    "\n",
    "There are no missing data in this data file, but there are some other issues. \n",
    "\n",
    "When you print the head of this data set, you probably noticed that all the features and labels are strings. We need to replace them with numerical values for modeling. For the `won` column replace winning with a 1 and losing with a 0. For the other columns, there are seven strings. Replace them using the following table:\n",
    "\n",
    "| raw data | replaced |\n",
    "| -------- | -------- |\n",
    "| f | 1 |\n",
    "| l | 2 |\n",
    "| n | 3 |\n",
    "| t | 4 |\n",
    "| w | 5 |\n",
    "| b | 6 |\n",
    "| g | 7 |\n",
    "\n",
    "**Note:** this choice really matters and for the models we have learned can really influence the results of our model. We do this because we need to for the model, but we haven't critically thought about the mapping that makes the most sense. There are other models (e.g., [tree-based alogrithms](https://en.wikipedia.org/wiki/Random_forest)) that can handle these categorical data without this mapping.\n",
    "\n",
    "<font size=8 color=\"#009600\">&#9998;</font> Do this - Replace the entries in the columns as indicated above. Print the `.head()` of the dataframe to show you have succesfull done so."
   ]
  },
  {
   "cell_type": "code",
   "execution_count": 3,
   "metadata": {},
   "outputs": [
    {
     "data": {
      "text/html": [
       "<div>\n",
       "<style scoped>\n",
       "    .dataframe tbody tr th:only-of-type {\n",
       "        vertical-align: middle;\n",
       "    }\n",
       "\n",
       "    .dataframe tbody tr th {\n",
       "        vertical-align: top;\n",
       "    }\n",
       "\n",
       "    .dataframe thead th {\n",
       "        text-align: right;\n",
       "    }\n",
       "</style>\n",
       "<table border=\"1\" class=\"dataframe\">\n",
       "  <thead>\n",
       "    <tr style=\"text-align: right;\">\n",
       "      <th></th>\n",
       "      <th>bkblk</th>\n",
       "      <th>bknwy</th>\n",
       "      <th>bkon8</th>\n",
       "      <th>bkona</th>\n",
       "      <th>bkspr</th>\n",
       "      <th>bkxbq</th>\n",
       "      <th>bkxcr</th>\n",
       "      <th>bkxwp</th>\n",
       "      <th>blxwp</th>\n",
       "      <th>bxqsq</th>\n",
       "      <th>...</th>\n",
       "      <th>spcop</th>\n",
       "      <th>stlmt</th>\n",
       "      <th>thrsk</th>\n",
       "      <th>wkcti</th>\n",
       "      <th>wkna8</th>\n",
       "      <th>wknck</th>\n",
       "      <th>wkovl</th>\n",
       "      <th>wkpos</th>\n",
       "      <th>wtoeg</th>\n",
       "      <th>won</th>\n",
       "    </tr>\n",
       "  </thead>\n",
       "  <tbody>\n",
       "    <tr>\n",
       "      <td>0</td>\n",
       "      <td>1</td>\n",
       "      <td>1</td>\n",
       "      <td>1</td>\n",
       "      <td>1</td>\n",
       "      <td>1</td>\n",
       "      <td>1</td>\n",
       "      <td>1</td>\n",
       "      <td>1</td>\n",
       "      <td>1</td>\n",
       "      <td>1</td>\n",
       "      <td>...</td>\n",
       "      <td>1</td>\n",
       "      <td>1</td>\n",
       "      <td>1</td>\n",
       "      <td>1</td>\n",
       "      <td>1</td>\n",
       "      <td>1</td>\n",
       "      <td>4</td>\n",
       "      <td>4</td>\n",
       "      <td>3</td>\n",
       "      <td>1</td>\n",
       "    </tr>\n",
       "    <tr>\n",
       "      <td>1</td>\n",
       "      <td>1</td>\n",
       "      <td>1</td>\n",
       "      <td>1</td>\n",
       "      <td>1</td>\n",
       "      <td>4</td>\n",
       "      <td>1</td>\n",
       "      <td>1</td>\n",
       "      <td>1</td>\n",
       "      <td>1</td>\n",
       "      <td>1</td>\n",
       "      <td>...</td>\n",
       "      <td>1</td>\n",
       "      <td>1</td>\n",
       "      <td>1</td>\n",
       "      <td>1</td>\n",
       "      <td>1</td>\n",
       "      <td>1</td>\n",
       "      <td>4</td>\n",
       "      <td>4</td>\n",
       "      <td>3</td>\n",
       "      <td>1</td>\n",
       "    </tr>\n",
       "    <tr>\n",
       "      <td>2</td>\n",
       "      <td>1</td>\n",
       "      <td>1</td>\n",
       "      <td>1</td>\n",
       "      <td>1</td>\n",
       "      <td>4</td>\n",
       "      <td>1</td>\n",
       "      <td>4</td>\n",
       "      <td>1</td>\n",
       "      <td>1</td>\n",
       "      <td>1</td>\n",
       "      <td>...</td>\n",
       "      <td>1</td>\n",
       "      <td>1</td>\n",
       "      <td>1</td>\n",
       "      <td>1</td>\n",
       "      <td>1</td>\n",
       "      <td>1</td>\n",
       "      <td>4</td>\n",
       "      <td>4</td>\n",
       "      <td>3</td>\n",
       "      <td>1</td>\n",
       "    </tr>\n",
       "    <tr>\n",
       "      <td>3</td>\n",
       "      <td>1</td>\n",
       "      <td>1</td>\n",
       "      <td>1</td>\n",
       "      <td>1</td>\n",
       "      <td>1</td>\n",
       "      <td>1</td>\n",
       "      <td>1</td>\n",
       "      <td>1</td>\n",
       "      <td>4</td>\n",
       "      <td>1</td>\n",
       "      <td>...</td>\n",
       "      <td>1</td>\n",
       "      <td>1</td>\n",
       "      <td>1</td>\n",
       "      <td>1</td>\n",
       "      <td>1</td>\n",
       "      <td>1</td>\n",
       "      <td>4</td>\n",
       "      <td>4</td>\n",
       "      <td>3</td>\n",
       "      <td>1</td>\n",
       "    </tr>\n",
       "    <tr>\n",
       "      <td>4</td>\n",
       "      <td>1</td>\n",
       "      <td>1</td>\n",
       "      <td>1</td>\n",
       "      <td>1</td>\n",
       "      <td>1</td>\n",
       "      <td>1</td>\n",
       "      <td>1</td>\n",
       "      <td>1</td>\n",
       "      <td>1</td>\n",
       "      <td>1</td>\n",
       "      <td>...</td>\n",
       "      <td>1</td>\n",
       "      <td>1</td>\n",
       "      <td>1</td>\n",
       "      <td>1</td>\n",
       "      <td>1</td>\n",
       "      <td>1</td>\n",
       "      <td>4</td>\n",
       "      <td>4</td>\n",
       "      <td>3</td>\n",
       "      <td>1</td>\n",
       "    </tr>\n",
       "  </tbody>\n",
       "</table>\n",
       "<p>5 rows × 37 columns</p>\n",
       "</div>"
      ],
      "text/plain": [
       "   bkblk  bknwy  bkon8  bkona  bkspr  bkxbq  bkxcr  bkxwp  blxwp  bxqsq  ...  \\\n",
       "0      1      1      1      1      1      1      1      1      1      1  ...   \n",
       "1      1      1      1      1      4      1      1      1      1      1  ...   \n",
       "2      1      1      1      1      4      1      4      1      1      1  ...   \n",
       "3      1      1      1      1      1      1      1      1      4      1  ...   \n",
       "4      1      1      1      1      1      1      1      1      1      1  ...   \n",
       "\n",
       "   spcop  stlmt  thrsk  wkcti  wkna8  wknck  wkovl  wkpos  wtoeg  won  \n",
       "0      1      1      1      1      1      1      4      4      3    1  \n",
       "1      1      1      1      1      1      1      4      4      3    1  \n",
       "2      1      1      1      1      1      1      4      4      3    1  \n",
       "3      1      1      1      1      1      1      4      4      3    1  \n",
       "4      1      1      1      1      1      1      4      4      3    1  \n",
       "\n",
       "[5 rows x 37 columns]"
      ]
     },
     "execution_count": 3,
     "metadata": {},
     "output_type": "execute_result"
    }
   ],
   "source": [
    "## your code here\n",
    "\n",
    "df = data['won'].replace({'won':1, \"nowin\":0}, inplace=True)\n",
    "\n",
    "df1 = data.replace(to_replace = {\"f\": 1, \"l\": 2, \"n\": 3, \"t\": 4, \"w\": 5, \"b\": 6, \"g\": 7})\n",
    "df1.head()"
   ]
  },
  {
   "cell_type": "markdown",
   "metadata": {},
   "source": [
    "### 2.3 Separate features and class labels\n",
    "\n",
    "As we have seen in our analyses using `sklearn` it is advantageous to separate our dataframes into `features` and `labels` for the analysis we are intending to do.\n",
    "\n",
    "<font size=8 color=\"#009600\">&#9998;</font> Do this - Separate the data frame into two: a features dataframe and a labels dataframe."
   ]
  },
  {
   "cell_type": "code",
   "execution_count": 4,
   "metadata": {},
   "outputs": [],
   "source": [
    "## create a features dataframe and a labels dataframe\n",
    "features = df1.drop([\"won\"], axis = 1)\n",
    "labels = df1[\"won\"]"
   ]
  },
  {
   "cell_type": "code",
   "execution_count": 5,
   "metadata": {},
   "outputs": [
    {
     "name": "stdout",
     "output_type": "stream",
     "text": [
      "1669\n"
     ]
    },
    {
     "data": {
      "text/plain": [
       "1527"
      ]
     },
     "execution_count": 5,
     "metadata": {},
     "output_type": "execute_result"
    }
   ],
   "source": [
    "print(sum(labels))\n",
    "# there are 1669 total ones in our df \n",
    "# total is 3196\n",
    "3196-1669"
   ]
  },
  {
   "cell_type": "markdown",
   "metadata": {},
   "source": [
    "**Question:** How balanced is your outcome variable? Why does it matter for the outcome to be balanced?"
   ]
  },
  {
   "cell_type": "markdown",
   "metadata": {},
   "source": [
    "<font size=8 color=\"#009600\">&#9998;</font> Our outcome variable is pretty balanced, there are about 52% of the \"ones\" (wins) in our dataset and about 48% are zeros (losses). It matters because when we go to train our dataset, our model will look evenly for the numbers of wins and losses becuase both are close to 50%. For example if we had say 80% wins, when we go to train our data our model will look for wins much more than losses resulting in a bias and inaccurate model."
   ]
  },
  {
   "cell_type": "markdown",
   "metadata": {},
   "source": [
    "---\n",
    "## 3. Building an SVC model\n",
    "\n",
    "For this classification problem, we will use an support vector machine. As you learned in the midterm review, we could easily replace this with any `sklearn` classifier we choose. We will use a linear kernel.\n",
    "\n",
    "### 3.1 Splitting the data\n",
    "\n",
    "<font size=8 color=\"#009600\">&#9998;</font> Do this - Split your data into a training and testing set with a train size representing 75% of your data. Print the lengths to show you have the right number of entries."
   ]
  },
  {
   "cell_type": "code",
   "execution_count": 6,
   "metadata": {},
   "outputs": [
    {
     "name": "stdout",
     "output_type": "stream",
     "text": [
      "799\n",
      "2397\n",
      "0       1\n",
      "1       1\n",
      "2       1\n",
      "3       1\n",
      "4       1\n",
      "       ..\n",
      "3191    0\n",
      "3192    0\n",
      "3193    0\n",
      "3194    0\n",
      "3195    0\n",
      "Name: won, Length: 3196, dtype: int64\n"
     ]
    }
   ],
   "source": [
    "## your code here\n",
    "\n",
    "x_train, x_test, y_train, y_test = train_test_split(features, labels, test_size=.25)\n",
    "print(len(x_test))\n",
    "print(len(x_train))\n",
    "# 2397 / 3196 is 75% \n",
    "print(labels)"
   ]
  },
  {
   "cell_type": "markdown",
   "metadata": {},
   "source": [
    "### 3.2 Modeling the data and evaluting the fit\n",
    "\n",
    "As you have done this a number of times, we ask you to do most of the analysis in one cell.\n",
    "\n",
    "<font size=8 color=\"#009600\">&#9998;</font> Do this - Build a linear SVC model (`C=100`), fit it to the training set, use the test features to predict the outcomes. Evaluate the fit using the confusion matrix and classification report.\n",
    "\n",
    " **Note:** You should look at the documentation on the confusion matrix because the way `sklearn` outputs false positives and false negatives is different from what most images on the web indicate."
   ]
  },
  {
   "cell_type": "code",
   "execution_count": 7,
   "metadata": {},
   "outputs": [
    {
     "name": "stdout",
     "output_type": "stream",
     "text": [
      "Confusion Matrix:  [[401  18]\n",
      " [ 13 367]]\n",
      "Accuracy score:  0.9612015018773467\n"
     ]
    }
   ],
   "source": [
    "## svc with linear kernel\n",
    "\n",
    "from sklearn.svm import SVC\n",
    "\n",
    "svc_linear = SVC(C = 100, kernel = \"linear\")\n",
    "svc_linear.fit(x_train, y_train)\n",
    "pred = svc_linear.predict(x_test)\n",
    "\n",
    "print(\"Confusion Matrix: \", confusion_matrix(y_test, pred))\n",
    "print('Accuracy score: ', accuracy_score(y_test, pred))"
   ]
  },
  {
   "cell_type": "markdown",
   "metadata": {},
   "source": [
    "**Question:** How accurate is your model? What eveidence are you using to determine that? How many false positives and false negatives does it predict?"
   ]
  },
  {
   "cell_type": "markdown",
   "metadata": {},
   "source": [
    "<font size=8 color=\"#009600\">&#9998;</font> Our model is pretty accurate based on the accuracy score and the confusion matrix that we printed. sklearn outputs the false positives and neagtives different from a usual confusion matrix so based on that knowledge, our model shows that there are 18 false positives and 15 false negatives."
   ]
  },
  {
   "attachments": {
    "image.png": {
     "image/png": "[encoded data removed]"
    }
   },
   "cell_type": "markdown",
   "metadata": {},
   "source": [
    "![image.png](attachment:image.png)"
   ]
  },
  {
   "cell_type": "markdown",
   "metadata": {},
   "source": [
    "---\n",
    "## 4. Finding and using the best hyperparameters\n",
    "\n",
    "We have fit one model and determined it's performance, but is it the best model? We can use `GridSearchCV` to find the best model (given our choices of parameters). Once we do that, we will use that best model going forward. **Note:** you would typically rerun this grid search in a production environment to continue to verify the best model, but we are not for the sake of speed.\n",
    "\n",
    "### 4.1 Grid search\n",
    "\n",
    "<font size=8 color=\"#009600\">&#9998;</font> Do this - Using the following parameters (`C` = 1, 10, 100, 1000 and `gamma` = 1e-4, 1e-3, 0.01, 0.1) for both a `linear` and `rbf` kernel use `GridSearchCV` with the `SVC()` model to find the best fit parameters. Print the \"best estimators\"."
   ]
  },
  {
   "cell_type": "code",
   "execution_count": 8,
   "metadata": {},
   "outputs": [
    {
     "name": "stderr",
     "output_type": "stream",
     "text": [
      "/Users/nihalgrewal/opt/anaconda3/lib/python3.7/site-packages/sklearn/model_selection/_split.py:1978: FutureWarning: The default value of cv will change from 3 to 5 in version 0.22. Specify it explicitly to silence this warning.\n",
      "  warnings.warn(CV_WARNING, FutureWarning)\n"
     ]
    },
    {
     "name": "stdout",
     "output_type": "stream",
     "text": [
      "the best estimators {'C': 1000, 'gamma': 0.001, 'kernel': 'rbf'}\n"
     ]
    }
   ],
   "source": [
    "## your code here\n",
    "\n",
    "parameters = {'C': [1, 10, 100, 1000], 'gamma': [1e-4, 1e-3, 0.01, 0.1],\n",
    "  'kernel': ('rbf', \"linear\")}\n",
    "\n",
    "grid = GridSearchCV(SVC(), parameters)\n",
    "grid.fit(features, labels)\n",
    "\n",
    "print(\"the best estimators\",grid.best_params_)"
   ]
  },
  {
   "cell_type": "markdown",
   "metadata": {},
   "source": [
    "### 4.2 Evaluating the best fit model\n",
    "\n",
    "Now that we have found the \"best estimators\", let's determine how good the fit is.\n",
    "\n",
    "<font size=8 color=\"#009600\">&#9998;</font> Do this - Use the test features to predict the outcomes for the best model. Evaluate the fit using the confusion matrix and classification report. \n",
    "\n",
    "**Note:** You should look at the documentation on the confusion matrix because the way `sklearn` outputs false positives and false negatives is different from what most images on the web indicate."
   ]
  },
  {
   "cell_type": "code",
   "execution_count": 9,
   "metadata": {},
   "outputs": [
    {
     "name": "stdout",
     "output_type": "stream",
     "text": [
      "Confusion Matrix:  [[418   1]\n",
      " [  1 379]]\n",
      "Accuracy score:  0.9974968710888611\n"
     ]
    }
   ],
   "source": [
    "## your code here\n",
    "g_pred = grid.predict(x_test)\n",
    "\n",
    "\n",
    "print(\"Confusion Matrix: \", confusion_matrix(y_test, g_pred))\n",
    "print('Accuracy score: ', accuracy_score(y_test, g_pred))\n"
   ]
  },
  {
   "cell_type": "markdown",
   "metadata": {},
   "source": [
    "**Question:** How accurate is this best model? What evidence are you using to determine that? How many false positives and false negatives does it predict?"
   ]
  },
  {
   "cell_type": "markdown",
   "metadata": {},
   "source": [
    "<font size=8 color=\"#009600\">&#9998;</font> The best model is extremely accurate based on our accuracy score and confusion matrix. Our accuracy score shows that the model is nearly flawless with 99% accuracy and the confusion matrix shows that there are only 2 false positives and 0 false negatives."
   ]
  },
  {
   "cell_type": "markdown",
   "metadata": {},
   "source": [
    "---\n",
    "## 5. Using Principal Components\n",
    "\n",
    "The full model uses 36 features to predict the results. And you likely found that the model is incredibly accurate. But in some cases, we might have even more features (which means much more computational time), and we might not need nearly the level of accuracy we can achieve with the full data set. So, we will see how close we can get with fewer features. But instead of simply removing features, we will use a PCA to determine the featurse that contribute the most the model (through their accounted variance) and use those to build our SVC model.\n",
    "\n",
    "### 5.1 Building a PCA\n",
    "\n",
    "We will start with a small number of components (say, 4) to see how well we can predict the outcomes of the games.\n",
    "\n",
    "<font size=8 color=\"#009600\">&#9998;</font> Do this - Using `PCA()`, fit a pca to your training features with 4 components. Transform both the test and training features using this pca. Plot the `explained_variance_` versus component number."
   ]
  },
  {
   "cell_type": "code",
   "execution_count": 10,
   "metadata": {},
   "outputs": [
    {
     "data": {
      "text/plain": [
       "<matplotlib.legend.Legend at 0x7fe25532cdd0>"
      ]
     },
     "execution_count": 10,
     "metadata": {},
     "output_type": "execute_result"
    },
    {
     "data": {
      "image/png": "[encoded data removed]",
      "text/plain": [
       "<Figure size 432x288 with 1 Axes>"
      ]
     },
     "metadata": {
      "needs_background": "light"
     },
     "output_type": "display_data"
    }
   ],
   "source": [
    "## your code here\n",
    "n_components = 4 \n",
    "\n",
    "# print(\"Extracting the top %d eigenfaces from %d faces\" % (n_components, predict_vectors.shape[0]))\n",
    "\n",
    "pca = PCA(n_components=n_components, whiten=True)\n",
    "\n",
    "#Fit the training data to the pca model.\n",
    "pca = pca.fit(x_train)\n",
    "\n",
    "pca_train_vectors = pca.transform(x_train)\n",
    "pca_test_vectors = pca.transform(x_test)\n",
    "\n",
    "# dir(pca)\n",
    "explained_variance = pca.explained_variance_ratio_ \n",
    "\n",
    "plt.plot(explained_variance, label = \"explained variance\", marker=\"o\")\n",
    "plt.legend()"
   ]
  },
  {
   "cell_type": "markdown",
   "metadata": {},
   "source": [
    "**Question:** What is the total explained variance captured by this PCA (we will use this later, just quote the number)? How well do you think a model with this many featuers will perform? Why?"
   ]
  },
  {
   "cell_type": "markdown",
   "metadata": {},
   "source": [
    "<font size=8 color=\"#009600\">&#9998;</font> The total explained variance captured by this PCA is about 19%. I think a model with this many features would be less accurate becuase it doesn't account for the other numerous features in our original model. Furthermore the explained variance is not that high, showcasing why this specific model needs improvement."
   ]
  },
  {
   "cell_type": "markdown",
   "metadata": {},
   "source": [
    "### 5.2 Fit and Evaluate an SVC model\n",
    "\n",
    "Using the pca transformed features, we will train and test an SVC model using the \"best estimators\".\n",
    "\n",
    "<font size=8 color=\"#009600\">&#9998;</font> Do this - Using the pca transformed training data, build and train an SVC model. Predict the classes using the pca transformed test data. Evaluate the model using the classfication report, and the confusion matrix."
   ]
  },
  {
   "cell_type": "code",
   "execution_count": 11,
   "metadata": {},
   "outputs": [
    {
     "name": "stdout",
     "output_type": "stream",
     "text": [
      "Confusion Matrix:  [[247 172]\n",
      " [148 232]]\n",
      "Accuracy score:  0.5994993742177722\n",
      "Classification Report:               precision    recall  f1-score   support\n",
      "\n",
      "           0       0.63      0.59      0.61       419\n",
      "           1       0.57      0.61      0.59       380\n",
      "\n",
      "    accuracy                           0.60       799\n",
      "   macro avg       0.60      0.60      0.60       799\n",
      "weighted avg       0.60      0.60      0.60       799\n",
      "\n"
     ]
    }
   ],
   "source": [
    "## your code here\n",
    "svc_rbf = SVC(C = 1000, gamma = 0.001, kernel = \"rbf\")\n",
    "svc_rbf.fit(pca_train_vectors, y_train)\n",
    "\n",
    "pred = svc_rbf.predict(pca_test_vectors)\n",
    "\n",
    "print(\"Confusion Matrix: \", confusion_matrix(y_test, pred))\n",
    "print('Accuracy score: ', accuracy_score(y_test, pred))\n",
    "print(\"Classification Report:\", classification_report(y_test, pred))"
   ]
  },
  {
   "cell_type": "markdown",
   "metadata": {},
   "source": [
    "**Question:** How accurate is this model? What evidence are you using to determine that? How many false positives and false negatives does it predict? How does it compare to the full model?"
   ]
  },
  {
   "cell_type": "markdown",
   "metadata": {},
   "source": [
    "<font size=8 color=\"#009600\">&#9998;</font> Based on the accuracy score, the model is not that accurate as it is only about 63% correct. Additionally, there are 245 true negatives and 130 false positives as well as 166 false negatives and 258 true positives so based on those values I can determine that the model is less accurate than the full model. Lastly, the classification report states that the model is not that precise and the true postive rate is about 88%."
   ]
  },
  {
   "cell_type": "markdown",
   "metadata": {},
   "source": [
    "### 5.3 Repeat your analysis with more components\n",
    "\n",
    "You probably found that the model with 4 features didn't work so well. What if we increase the number of components (say to 30, which is still 6 fewer than the full data set). What happens now?\n",
    "\n",
    "<font size=8 color=\"#009600\">&#9998;</font> Do this - Repeat your analysis from 5.1 and 5.2 using 30 components instead."
   ]
  },
  {
   "cell_type": "code",
   "execution_count": 12,
   "metadata": {},
   "outputs": [
    {
     "data": {
      "text/plain": [
       "array([7.28727102, 4.75232723, 4.40541172, 3.06492604, 2.62500748,\n",
       "       2.40453275, 2.34129551, 1.97714566, 1.77437764, 1.58839328,\n",
       "       1.290968  , 1.0918046 , 1.02737222, 0.93271603, 0.84130386,\n",
       "       0.76003138, 0.74451227, 0.66911304, 0.59611566, 0.54616837,\n",
       "       0.53521367, 0.5062303 , 0.44602327, 0.37868976, 0.31275797,\n",
       "       0.25916806, 0.23201306, 0.17876194, 0.13912326, 0.10922004])"
      ]
     },
     "execution_count": 12,
     "metadata": {},
     "output_type": "execute_result"
    },
    {
     "data": {
      "image/png": "[encoded data removed]",
      "text/plain": [
       "<Figure size 432x288 with 1 Axes>"
      ]
     },
     "metadata": {
      "needs_background": "light"
     },
     "output_type": "display_data"
    }
   ],
   "source": [
    "## your code here\n",
    "n_components = 30\n",
    "\n",
    "# print(\"Extracting the top %d eigenfaces from %d faces\" % (n_components, predict_vectors.shape[0]))\n",
    "\n",
    "pca = PCA(n_components=n_components, whiten=True)\n",
    "\n",
    "#Fit the training data to the pca model.\n",
    "pca = pca.fit(x_train)\n",
    "\n",
    "pca_train_vectors = pca.transform(x_train)\n",
    "pca_test_vectors = pca.transform(x_test)\n",
    "\n",
    "# dir(pca)\n",
    "\n",
    "plt.plot(pca.explained_variance_, marker=\"o\")\n",
    "pca.explained_variance_"
   ]
  },
  {
   "cell_type": "code",
   "execution_count": 13,
   "metadata": {},
   "outputs": [
    {
     "name": "stdout",
     "output_type": "stream",
     "text": [
      "Confusion Matrix:  [[414   5]\n",
      " [  6 374]]\n",
      "Accuracy score:  0.986232790988736\n",
      "Classification Report:               precision    recall  f1-score   support\n",
      "\n",
      "           0       0.99      0.99      0.99       419\n",
      "           1       0.99      0.98      0.99       380\n",
      "\n",
      "    accuracy                           0.99       799\n",
      "   macro avg       0.99      0.99      0.99       799\n",
      "weighted avg       0.99      0.99      0.99       799\n",
      "\n"
     ]
    }
   ],
   "source": [
    "svc_rbf = SVC(C = 1000, gamma = 0.001, kernel = \"rbf\")\n",
    "svc_rbf.fit(pca_train_vectors, y_train)\n",
    "\n",
    "pred = svc_rbf.predict(pca_test_vectors)\n",
    "\n",
    "print(\"Confusion Matrix: \", confusion_matrix(y_test, pred))\n",
    "print('Accuracy score: ', accuracy_score(y_test, pred))\n",
    "print(\"Classification Report:\", classification_report(y_test, pred))"
   ]
  },
  {
   "cell_type": "markdown",
   "metadata": {},
   "source": [
    "**Question:** What is the total explained variance captured by this PCA? How accurate is this model? What evidence are you using to determine that? How many false positives and false negatives does it predict? How does it compare to the 4 component model? To the full model?"
   ]
  },
  {
   "cell_type": "markdown",
   "metadata": {},
   "source": [
    "<font size=8 color=\"#009600\">&#9998;</font> The total explained variance is about 35%. The model itself is much more accurate as it should be because we evaluated the precision to be 99% and the accuracy score is almost 99%. The model predicts five false positives and only three false negatives, which is very close to the full model prediction of two false positives and one false negative. This model is much more accurate than the four component model because the four component model predicted 134 false positives and 199 false negatives. "
   ]
  },
  {
   "cell_type": "markdown",
   "metadata": {},
   "source": [
    "---\n",
    "## 6. How well does a PCA work?\n",
    "\n",
    "Clearly, the number of components we use in our PCA matters. Let's investigate how they matter by systematically building a model for any number of selected components.\n",
    "\n",
    "### 6.1 Accuracy vs. Components\n",
    "\n",
    "We will do this by writing a function that creates the PCA, the SVC model, fits the training data, predict the labels using test data, and returns the accuracy scores and the explained variance. So your function will take as input:\n",
    "* the number of components\n",
    "* the training features\n",
    "* the test features\n",
    "* the training labels\n",
    "* the test labels\n",
    "and it will return the accuracy scores for an SVC model fit to pca transformed features and the total explained variance.\n",
    "\n",
    "<font size=8 color=\"#009600\">&#9998;</font> Do this - Create this function, which you will use in the next section."
   ]
  },
  {
   "cell_type": "code",
   "execution_count": 76,
   "metadata": {},
   "outputs": [],
   "source": [
    "def p_c_a(n_components, x_train, x_test, y_train, y_test):\n",
    "#     n_components = \n",
    "    pca = PCA(n_components=n_components, whiten=True)\n",
    "    pca = pca.fit(x_train)\n",
    "    \n",
    "    pca_train_vectors = pca.transform(x_train)\n",
    "    pca_test_vectors = pca.transform(x_test)\n",
    "    \n",
    "    \n",
    "    \n",
    "    svc_rbf = SVC(C = 1000, gamma = 0.001, kernel = \"rbf\")\n",
    "    svc_rbf.fit(pca_train_vectors, y_train)\n",
    "\n",
    "    pred = svc_rbf.predict(pca_test_vectors)\n",
    "    return sum(pca.explained_variance_), accuracy_score(y_test, pred)\n",
    "   "
   ]
  },
  {
   "cell_type": "code",
   "execution_count": 77,
   "metadata": {},
   "outputs": [
    {
     "data": {
      "text/plain": [
       "(43.81799508148608, 0.986232790988736)"
      ]
     },
     "execution_count": 77,
     "metadata": {},
     "output_type": "execute_result"
    }
   ],
   "source": [
    "p_c_a(30, x_train, x_test, y_train, y_test)"
   ]
  },
  {
   "cell_type": "markdown",
   "metadata": {},
   "source": [
    "### 6.2 Compute accuracies\n",
    "\n",
    "Now that you have created a function that returns the accuracy for a given number of components, we will use that to plot the how the accuracy of your SVC model changes when we increase the number of components used in the PCA.\n",
    "\n",
    "<font size=8 color=\"#009600\">&#9998;</font> Do this - For 1 to 36 components, use your function above to compute and store (as a list) the accuracy of your models."
   ]
  },
  {
   "cell_type": "code",
   "execution_count": 78,
   "metadata": {},
   "outputs": [],
   "source": [
    "## your code here\n",
    "comp_a = []\n",
    "comp_v = []\n",
    "\n",
    "for n_components in range(1, 37):\n",
    "    v, a = p_c_a(n_components, x_train, x_test, y_train, y_test)\n",
    "    comp_a.append(a)\n",
    "    comp_v.append(v)\n",
    "#     print(v, a)"
   ]
  },
  {
   "cell_type": "markdown",
   "metadata": {},
   "source": [
    "### 6.3 Plot accuracy vs number of components\n",
    "\n",
    "Now that we have those numbers, it makes sense to look at the accuracy vs components.\n",
    "\n",
    "<font size=8 color=\"#009600\">&#9998;</font> Do this - Plot the accuracy vs components."
   ]
  },
  {
   "cell_type": "code",
   "execution_count": 79,
   "metadata": {},
   "outputs": [
    {
     "data": {
      "text/plain": [
       "Text(0.5, 1.0, 'Accuracy vs. Number of components')"
      ]
     },
     "execution_count": 79,
     "metadata": {},
     "output_type": "execute_result"
    },
    {
     "data": {
      "image/png": "[encoded data removed]",
      "text/plain": [
       "<Figure size 432x288 with 1 Axes>"
      ]
     },
     "metadata": {
      "needs_background": "light"
     },
     "output_type": "display_data"
    }
   ],
   "source": [
    "## your code here\n",
    "plt.plot(np.arange(1, 37, 1), comp_a, \"x--\")\n",
    "plt.xlabel(\"Number of components\")\n",
    "plt.ylabel(\"Accuracy Score\")\n",
    "plt.title(\"Accuracy vs. Number of components\")\n",
    "# print(len(comp_a))\n",
    "# print(len(comp_v))"
   ]
  },
  {
   "cell_type": "markdown",
   "metadata": {},
   "source": [
    "**Question:** Where does it seem like we have diminishing returns, that is, no major increase in accuracy as we add additional components to the PCA?"
   ]
  },
  {
   "cell_type": "markdown",
   "metadata": {},
   "source": [
    "<font size=8 color=\"#009600\">&#9998;</font> The point of diminishing returns according to our graph is around the 29/30 component range, as the graph begins to level out around this point and the accuaracy score is >96%"
   ]
  },
  {
   "cell_type": "markdown",
   "metadata": {},
   "source": [
    "### 6.4 Plot total explained variance vs number of components\n",
    "\n",
    "<font size=8 color=\"#009600\">&#9998;</font> Do this - Plot the total explained variance vs components. "
   ]
  },
  {
   "cell_type": "code",
   "execution_count": 80,
   "metadata": {},
   "outputs": [
    {
     "data": {
      "text/plain": [
       "Text(0.5, 1.0, 'Explained Variance vs. Number of components')"
      ]
     },
     "execution_count": 80,
     "metadata": {},
     "output_type": "execute_result"
    },
    {
     "data": {
      "image/png": "[encoded data removed]",
      "text/plain": [
       "<Figure size 432x288 with 1 Axes>"
      ]
     },
     "metadata": {
      "needs_background": "light"
     },
     "output_type": "display_data"
    }
   ],
   "source": [
    "## your code here\n",
    "plt.plot(np.arange(1, 37, 1), comp_v, \"x--\")\n",
    "plt.xlabel(\"Number of components\")\n",
    "plt.ylabel(\"Explained Variance\")\n",
    "plt.title(\"Explained Variance vs. Number of components\")\n",
    "# print(len(comp_a))\n",
    "# print(len(comp_v))"
   ]
  },
  {
   "cell_type": "markdown",
   "metadata": {},
   "source": [
    "**Question:** Where does it seem like we have diminishing returns, that is, no major increase in explained variance as we add additional components to the PCA? How does that number of components compare to the diminishing returns for accuracy?"
   ]
  },
  {
   "cell_type": "markdown",
   "metadata": {},
   "source": [
    "<font size=8 color=\"#009600\">&#9998;</font> The point of diminishing returns according to our graph is around the 31/32 component range, as the graph begins to level out around this point and the explained variance is greater than about 40%."
   ]
  },
  {
   "cell_type": "markdown",
   "metadata": {},
   "source": [
    "---\n",
    "## 7. Assignment wrap-up¶\n",
    "Please fill out the form that appears when you run the code below. **You must completely fill this out in order to receive credit for the assignment!**"
   ]
  },
  {
   "cell_type": "code",
   "execution_count": 1,
   "metadata": {},
   "outputs": [
    {
     "data": {
      "text/html": [
       "\n",
       "<iframe \n",
       "\tsrc=\"https://docs.google.com/forms/d/e/1FAIpQLSc0IBD2mdn4TcRyi-KNXVtS3aEg6U4mOFq2MOciLQyEP4bg1w/viewform?usp=sf_link\" \n",
       "\twidth=\"800px\" \n",
       "\theight=\"600px\" \n",
       "\tframeborder=\"0\" \n",
       "\tmarginheight=\"0\" \n",
       "\tmarginwidth=\"0\">\n",
       "\tLoading...\n",
       "</iframe>\n"
      ],
      "text/plain": [
       "<IPython.core.display.HTML object>"
      ]
     },
     "execution_count": 1,
     "metadata": {},
     "output_type": "execute_result"
    }
   ],
   "source": [
    "from IPython.display import HTML\n",
    "HTML(\n",
    "\"\"\"\n",
    "<iframe \n",
    "\tsrc=\"https://docs.google.com/forms/d/e/1FAIpQLSc0IBD2mdn4TcRyi-KNXVtS3aEg6U4mOFq2MOciLQyEP4bg1w/viewform?usp=sf_link\" \n",
    "\twidth=\"800px\" \n",
    "\theight=\"600px\" \n",
    "\tframeborder=\"0\" \n",
    "\tmarginheight=\"0\" \n",
    "\tmarginwidth=\"0\">\n",
    "\tLoading...\n",
    "</iframe>\n",
    "\"\"\"\n",
    ")"
   ]
  },
  {
   "cell_type": "markdown",
   "metadata": {},
   "source": [
    "### Congratulations, you're done!\n",
    "Submit this assignment by uploading it to the course Desire2Learn web page. Go to the \"Homework Assignments\" folder, find the dropbox link for Homework 4, and upload your notebook."
   ]
  }
 ],
 "metadata": {
  "kernelspec": {
   "display_name": "Python 3",
   "language": "python",
   "name": "python3"
  },
  "language_info": {
   "codemirror_mode": {
    "name": "ipython",
    "version": 3
   },
   "file_extension": ".py",
   "mimetype": "text/x-python",
   "name": "python",
   "nbconvert_exporter": "python",
   "pygments_lexer": "ipython3",
   "version": "3.7.4"
  }
 },
 "nbformat": 4,
 "nbformat_minor": 4
}
